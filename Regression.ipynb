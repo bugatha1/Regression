{
  "nbformat": 4,
  "nbformat_minor": 0,
  "metadata": {
    "colab": {
      "name": "Regression.ipynb",
      "provenance": [],
      "authorship_tag": "ABX9TyNNa100ULYkOYqUmmbIUJvU",
      "include_colab_link": true
    },
    "kernelspec": {
      "name": "python3",
      "display_name": "Python 3"
    },
    "language_info": {
      "name": "python"
    }
  },
  "cells": [
    {
      "cell_type": "markdown",
      "metadata": {
        "id": "view-in-github",
        "colab_type": "text"
      },
      "source": [
        "<a href=\"https://colab.research.google.com/github/bugatha1/Regression/blob/main/Regression.ipynb\" target=\"_parent\"><img src=\"https://colab.research.google.com/assets/colab-badge.svg\" alt=\"Open In Colab\"/></a>"
      ]
    },
    {
      "cell_type": "markdown",
      "source": [
        "#Machine learning algorithms can learn in three ways\n",
        "\n",
        "\n",
        "\n",
        "\n",
        "\n"
      ],
      "metadata": {
        "id": "kdDJSiYZyT8Q"
      }
    },
    {
      "cell_type": "markdown",
      "source": [
        "**Supervised learning:**                                                        \n",
        "This is when we present labeled examples to learn from. "
      ],
      "metadata": {
        "id": "bTSDDWjzJ86I"
      }
    },
    {
      "cell_type": "markdown",
      "source": [
        "**Unsupervised learning:**                                                      \n",
        "This is when we present examples without any hint, leaving it to the algorithm to create a label. \n",
        "\n",
        "*   Customer segmentation, or understanding different customer groups around which to build marketing or other business strategies.\n",
        "*   Recommender systems, which involve grouping together users with similar viewing patterns in order to recommend similar content.\n",
        "*   Anomaly detection, including fraud detection or detecting defective mechanical parts (i.e., predictive maintenance).\n",
        "\n",
        "Unsupervised learning has important applications in robotic vision and automatic feature creation\n"
      ],
      "metadata": {
        "id": "SedehMBoKIIH"
      }
    },
    {
      "cell_type": "markdown",
      "source": [
        "**Reinforcement learning:**                                                     \n",
        "This is when we need software to act successfully in a competitive setting, such as a videogame or the stock market, we can use reinforcement learning. In this case, the software will then start acting in the setting and it will learn directly from its errors until it finds a set of rules that ensure its success."
      ],
      "metadata": {
        "id": "pxB33G8fK91W"
      }
    },
    {
      "cell_type": "code",
      "source": [
        "import numpy as np\n",
        "\n",
        "vector = np.array([1, 2, 3, 4, 5])\n",
        "#vector\n",
        "\n",
        "row_vector = vector.reshape((5,1))\n",
        "#row_vector\n",
        "\n",
        "column_vector = vector.reshape((1, 5))\n",
        "#column_vector\n",
        "\n",
        "single_feature_matrix = vector.reshape((1, 5))\n",
        "#single_feature_matrix\n",
        "\n",
        "all_zeros = np.zeros((2,5))\n",
        "#all_zeros\n",
        "\n",
        "all_ones = np.ones((3,4))\n",
        "all_ones"
      ],
      "metadata": {
        "id": "ZwvsQ-NqOqQb",
        "outputId": "d45d87c4-fc49-4043-a6cd-ddbce5e93055",
        "colab": {
          "base_uri": "https://localhost:8080/"
        }
      },
      "execution_count": 21,
      "outputs": [
        {
          "output_type": "execute_result",
          "data": {
            "text/plain": [
              "array([[1., 1., 1., 1.],\n",
              "       [1., 1., 1., 1.],\n",
              "       [1., 1., 1., 1.]])"
            ]
          },
          "metadata": {},
          "execution_count": 21
        }
      ]
    },
    {
      "cell_type": "markdown",
      "source": [
        "# Simple Linear Regression model on trainig set"
      ],
      "metadata": {
        "id": "QyGKTeEcFweW"
      }
    },
    {
      "cell_type": "code",
      "source": [
        "from sklearn.linear_model import LinearRegression\n",
        "regressor = LinearRegression()\n",
        "regressor.fit(X_train, y_train)"
      ],
      "metadata": {
        "id": "R015LOwPydYY"
      },
      "execution_count": null,
      "outputs": []
    },
    {
      "cell_type": "markdown",
      "source": [
        "# Predicting the test set results"
      ],
      "metadata": {
        "id": "GefBF569zFU9"
      }
    },
    {
      "cell_type": "code",
      "source": [
        "y_pred = regressor.predict(X_test)"
      ],
      "metadata": {
        "id": "1fQDiPW5zKu_"
      },
      "execution_count": null,
      "outputs": []
    },
    {
      "cell_type": "markdown",
      "source": [
        "# Visualising the training test results "
      ],
      "metadata": {
        "id": "DdtNOeIQzwRQ"
      }
    },
    {
      "cell_type": "code",
      "source": [
        "plt.scatter(X_trainl, y_train, color='red')\n",
        "plt.plot(X_train, regressor.predict(X_train), color='blue')\n",
        "plt.title('...')\n",
        "plt.xlabel('...')\n",
        "plt.ylabel('...')\n",
        "plt.show()"
      ],
      "metadata": {
        "id": "_s7QX8nHz5B-"
      },
      "execution_count": null,
      "outputs": []
    },
    {
      "cell_type": "markdown",
      "source": [
        "# Multiple linear regression model on training set"
      ],
      "metadata": {
        "id": "2zxSAjZCEvhR"
      }
    },
    {
      "cell_type": "code",
      "source": [
        "from sklearn.linear_model import LinearRegression\n",
        "regressor = LinearRegression()\n",
        "regressor.fit(X_train, y_train)"
      ],
      "metadata": {
        "id": "gDtC55ftFWcd"
      },
      "execution_count": null,
      "outputs": []
    },
    {
      "cell_type": "markdown",
      "source": [
        "# Polynomial regression model"
      ],
      "metadata": {
        "id": "4XlWqjrxMTrm"
      }
    },
    {
      "cell_type": "code",
      "source": [
        "from sklearn.preprocessing import PolynomialFeatures\n",
        "poly_reg = PolynomialFeatures(degree = 2)\n",
        "X_poly = poly_reg.fit_transform(X)\n",
        "lin_reg = LinearRegression()\n",
        "lin_reg.fit(X_poly, y) "
      ],
      "metadata": {
        "id": "Z-MxNYFtMaDw"
      },
      "execution_count": null,
      "outputs": []
    },
    {
      "cell_type": "markdown",
      "source": [
        "# Visualise the polynomial regression results"
      ],
      "metadata": {
        "id": "rjhkHsvmN4bd"
      }
    },
    {
      "cell_type": "code",
      "source": [
        "plt.scatter(X, y, color = 'red')\n",
        "plt.plot(X, lin_reg.predict(poly_reg.fit_transform(X)), color = 'blue')\n",
        "plt.title('...')\n",
        "plt.xlabel('...')\n",
        "plt.ylabel('...')\n",
        "plt.show()"
      ],
      "metadata": {
        "id": "CdSigfDGN-lj"
      },
      "execution_count": null,
      "outputs": []
    },
    {
      "cell_type": "markdown",
      "source": [
        "# Support vector regression\n",
        "  we have support vector linear regression and support vector nonlinear regression"
      ],
      "metadata": {
        "id": "SO_i7NRXk195"
      }
    },
    {
      "cell_type": "code",
      "source": [
        "# SVR model on the whole dataset\n",
        "\n",
        "from sklearn.svm import SVR\n",
        "regressor = SVR(kernel = 'rbf')\n",
        "regressor.fit(X, y)"
      ],
      "metadata": {
        "id": "L4tQj3fCk8VY"
      },
      "execution_count": null,
      "outputs": []
    },
    {
      "cell_type": "markdown",
      "source": [
        "# Decision Trees\n",
        " Classification Trees and Regression Trees"
      ],
      "metadata": {
        "id": "-pn06xuhunjQ"
      }
    },
    {
      "cell_type": "code",
      "source": [
        "# train the decision tree regression model on whole dataset\n",
        "\n",
        "from sklearn.tree import DecisionTreeRegressor\n",
        "regressor = DecisionTreeRegressor(random_state=0)\n",
        "regressor.fit(X, y)"
      ],
      "metadata": {
        "id": "Vw7mI7gK4mB9"
      },
      "execution_count": null,
      "outputs": []
    },
    {
      "cell_type": "markdown",
      "source": [
        "# Random Forest\n",
        "\n",
        "It is a version of ensemble learning. Ensemble learning means we are taking same alogirthm muliple times and put them together to make it powerful than original one. \n",
        "\n",
        "step1 :  Pick at random K data points from the training set.                    \n",
        "step2 : Build the decision tree associated to these K data points.              \n",
        "step3 : Chooes the number Ntree of trees you want to build and repeat STEPS 1&2\n",
        "step4 : For a new data point, make each one of your Ntree trees predict the value of Y to fot the data point in question, and assign the new data point the average across all of the predicted Y values "
      ],
      "metadata": {
        "id": "O_6xj7Sw5c5J"
      }
    },
    {
      "cell_type": "code",
      "source": [
        "# train the random forest regression model on the whole dataset\n",
        "\n",
        "from sklearn.ensemble import RandomForestRegressor\n",
        "regressor = RandomForestRegressor(n_estimators=10, random_state=0)\n",
        "regressor.fit(X, y)"
      ],
      "metadata": {
        "id": "Gzo-T9h0FXXe"
      },
      "execution_count": null,
      "outputs": []
    },
    {
      "cell_type": "markdown",
      "source": [
        "#Python packages and functions for linear models\n",
        "\n",
        "**NumPy**                                                                           \n",
        "it is at the core of every analytical solution in the Python language. It provides the user with multidimensional arrays, along with a large set of functions to operate multiple mathematical operations on the arrays.\n",
        "\n",
        "**SciPy**                                                                       \n",
        "It completes NumPy's functionalities, offering a larger variety of scientific algorithms for linear algebra, sparse matrices, signal and image processing, optimization, fast Fourier transformation, and much more.\n",
        "\n",
        "**Scikit-learn**                                                                \n",
        "It is part of the SciPy Toolkits (SciKits), Scikit-learn is the core of data science operations on Python.                                                   \n",
        "Scikit-learn offers modules for data processing (sklearn.preprocessing, sklearn.feature_extraction), model selection, and validation (sklearn.cross_validation, sklearn.grid_search, and sklearn.metrics) and a complete set of methods (sklearn.linear_model)"
      ],
      "metadata": {
        "id": "a1_tarAL2Kwt"
      }
    }
  ]
}